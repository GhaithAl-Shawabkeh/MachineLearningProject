{
  "cells": [
    {
      "cell_type": "markdown",
      "metadata": {
        "id": "Qh8Q9ie8Li79"
      },
      "source": [
        "Usefull sources\n",
        "\n",
        "https://ar5iv.labs.arxiv.org/html/1907.02724\n",
        "\n",
        "https://www.kaggle.com/code/shovalt/crowd-counting-keras-pretrained-resnet50-cnn/notebook\n",
        "\n"
      ]
    },
    {
      "cell_type": "code",
      "execution_count": null,
      "metadata": {
        "id": "Zjat11XPLi7_"
      },
      "outputs": [],
      "source": [
        "import tensorflow as tf\n",
        "from tensorflow.keras.layers import Input, Conv2D, MaxPooling2D, UpSampling2D, Concatenate, Conv2DTranspose, Activation, Flatten, Dense, BatchNormalization, GlobalAveragePooling2D, Dropout\n",
        "from tensorflow.keras.models import Model\n",
        "from tensorflow.keras.applications import vgg16\n",
        "from tensorflow.keras.optimizers import Adam\n",
        "from tensorflow.keras.preprocessing.image import ImageDataGenerator, img_to_array, load_img\n",
        "import matplotlib.pyplot as plt\n",
        "import matplotlib.image as mpimg\n",
        "import seaborn as sns\n",
        "import numpy as np\n",
        "import os\n",
        "import pandas as pd"
      ]
    },
    {
      "cell_type": "code",
      "execution_count": null,
      "metadata": {
        "id": "MafLPsqSWHU6",
        "colab": {
          "base_uri": "https://localhost:8080/"
        },
        "outputId": "83e1cfc3-84f6-421c-d9e8-14172d9221be"
      },
      "outputs": [
        {
          "output_type": "stream",
          "name": "stdout",
          "text": [
            "Drive already mounted at /content/drive/; to attempt to forcibly remount, call drive.mount(\"/content/drive/\", force_remount=True).\n",
            "['seq_000525.jpg', 'seq_000518.jpg', 'seq_000502.jpg', 'seq_000493.jpg', 'seq_000494.jpg', 'seq_000495.jpg', 'seq_000496.jpg', 'seq_000503.jpg', 'seq_000497.jpg', 'seq_000492.jpg', 'seq_000490.jpg', 'seq_000501.jpg', 'seq_000498.jpg', 'seq_000491.jpg', 'seq_000480.jpg', 'seq_000475.jpg', 'seq_000473.jpg', 'seq_000472.jpg', 'seq_000476.jpg', 'seq_000489.jpg', 'seq_000479.jpg', 'seq_000438.jpg', 'seq_000434.jpg', 'seq_000436.jpg', 'seq_000426.jpg', 'seq_000428.jpg', 'seq_000427.jpg', 'seq_000443.jpg', 'seq_000435.jpg', 'seq_000442.jpg', 'seq_000477.jpg', 'seq_000474.jpg', 'seq_000470.jpg', 'seq_000405.jpg', 'seq_000412.jpg', 'seq_000411.jpg', 'seq_000404.jpg', 'seq_000423.jpg', 'seq_000418.jpg', 'seq_000416.jpg', 'seq_000410.jpg', 'seq_000433.jpg', 'seq_000478.jpg', 'seq_000413.jpg', 'seq_000425.jpg', 'seq_000420.jpg', 'seq_000421.jpg', 'seq_000422.jpg', 'seq_000419.jpg', 'seq_000414.jpg', 'seq_000415.jpg', 'seq_000471.jpg', 'seq_000468.jpg', 'seq_000469.jpg', 'seq_000465.jpg', 'seq_000461.jpg', 'seq_000463.jpg', 'seq_000464.jpg', 'seq_000466.jpg', 'seq_000462.jpg', 'seq_000460.jpg', 'seq_000458.jpg', 'seq_000467.jpg', 'seq_000459.jpg', 'seq_000456.jpg', 'seq_000457.jpg', 'seq_000449.jpg', 'seq_000452.jpg', 'seq_000451.jpg', 'seq_000450.jpg', 'seq_000454.jpg', 'seq_000453.jpg', 'seq_000448.jpg', 'seq_000446.jpg', 'seq_000455.jpg', 'seq_000447.jpg', 'seq_000444.jpg', 'seq_000445.jpg', 'seq_000439.jpg', 'seq_000441.jpg', 'seq_000440.jpg', 'seq_000437.jpg', 'seq_000417.jpg', 'seq_000565.jpg', 'seq_000560.jpg', 'seq_000558.jpg', 'seq_000556.jpg', 'seq_000559.jpg', 'seq_000557.jpg', 'seq_000548.jpg', 'seq_000547.jpg', 'seq_000546.jpg', 'seq_000549.jpg', 'seq_000550.jpg', 'seq_000555.jpg', 'seq_000545.jpg', 'seq_000544.jpg', 'seq_000542.jpg', 'seq_000540.jpg', 'seq_000543.jpg', 'seq_000541.jpg', 'seq_000535.jpg', 'seq_000534.jpg', 'seq_000538.jpg', 'seq_000539.jpg', 'seq_000531.jpg', 'seq_000532.jpg', 'seq_000533.jpg', 'seq_000530.jpg', 'seq_000528.jpg', 'seq_000537.jpg', 'seq_000536.jpg', 'seq_000529.jpg', 'seq_000527.jpg', 'seq_000523.jpg', 'seq_000522.jpg', 'seq_000519.jpg', 'seq_000521.jpg', 'seq_000526.jpg', 'seq_000520.jpg', 'seq_000515.jpg', 'seq_000504.jpg', 'seq_000524.jpg', 'seq_000604.jpg', 'seq_000605.jpg', 'seq_000603.jpg', 'seq_000598.jpg', 'seq_000596.jpg', 'seq_000594.jpg', 'seq_000597.jpg', 'seq_000595.jpg', 'seq_000590.jpg', 'seq_000589.jpg', 'seq_000586.jpg', 'seq_000588.jpg', 'seq_000592.jpg', 'seq_000593.jpg', 'seq_000591.jpg', 'seq_000585.jpg', 'seq_000583.jpg', 'seq_000581.jpg', 'seq_000584.jpg', 'seq_000582.jpg', 'seq_000578.jpg', 'seq_000574.jpg', 'seq_000575.jpg', 'seq_000576.jpg', 'seq_000579.jpg', 'seq_000580.jpg', 'seq_000577.jpg', 'seq_000573.jpg', 'seq_000571.jpg', 'seq_000570.jpg', 'seq_000572.jpg', 'seq_000569.jpg', 'seq_000564.jpg', 'seq_000563.jpg', 'seq_000566.jpg', 'seq_000561.jpg', 'seq_000567.jpg', 'seq_000568.jpg', 'seq_000715.jpg', 'seq_000710.jpg', 'seq_000711.jpg', 'seq_000704.jpg', 'seq_000707.jpg', 'seq_000699.jpg', 'seq_000693.jpg', 'seq_000708.jpg', 'seq_000700.jpg', 'seq_000687.jpg', 'seq_000685.jpg', 'seq_000709.jpg', 'seq_000686.jpg', 'seq_000681.jpg', 'seq_000684.jpg', 'seq_000676.jpg', 'seq_000673.jpg', 'seq_000675.jpg', 'seq_000677.jpg', 'seq_000601.jpg', 'seq_000600.jpg', 'seq_000602.jpg', 'seq_000599.jpg', 'seq_000625.jpg', 'seq_000619.jpg', 'seq_000620.jpg', 'seq_000624.jpg', 'seq_000623.jpg', 'seq_000608.jpg', 'seq_000610.jpg', 'seq_000628.jpg', 'seq_000630.jpg', 'seq_000609.jpg', 'seq_000629.jpg', 'seq_000679.jpg', 'seq_000626.jpg', 'seq_000607.jpg', 'seq_000644.jpg', 'seq_000643.jpg', 'seq_000606.jpg', 'seq_000678.jpg', 'seq_000674.jpg', 'seq_000671.jpg', 'seq_000680.jpg', 'seq_000672.jpg', 'seq_000669.jpg', 'seq_000665.jpg', 'seq_000663.jpg', 'seq_000664.jpg', 'seq_000662.jpg', 'seq_000670.jpg', 'seq_000668.jpg', 'seq_000666.jpg', 'seq_000661.jpg', 'seq_000659.jpg', 'seq_000667.jpg', 'seq_000660.jpg', 'seq_000657.jpg', 'seq_000651.jpg', 'seq_000650.jpg', 'seq_000653.jpg', 'seq_000652.jpg', 'seq_000658.jpg', 'seq_000654.jpg', 'seq_000649.jpg', 'seq_000647.jpg', 'seq_000655.jpg', 'seq_000656.jpg', 'seq_000648.jpg', 'seq_000645.jpg', 'seq_000636.jpg', 'seq_000631.jpg', 'seq_000633.jpg', 'seq_000632.jpg', 'seq_000634.jpg', 'seq_000646.jpg', 'seq_000627.jpg', 'seq_000822.jpg', 'seq_000820.jpg', 'seq_000826.jpg', 'seq_000824.jpg', 'seq_000828.jpg', 'seq_000829.jpg', 'seq_000827.jpg', 'seq_000823.jpg', 'seq_000819.jpg', 'seq_000817.jpg', 'seq_000821.jpg', 'seq_000818.jpg', 'seq_000812.jpg', 'seq_000813.jpg', 'seq_000814.jpg', 'seq_000810.jpg', 'seq_000815.jpg', 'seq_000816.jpg', 'seq_000811.jpg', 'seq_000808.jpg', 'seq_000805.jpg', 'seq_000806.jpg', 'seq_000801.jpg', 'seq_000802.jpg', 'seq_000770.jpg', 'seq_000774.jpg', 'seq_000775.jpg', 'seq_000728.jpg', 'seq_000731.jpg', 'seq_000729.jpg', 'seq_000730.jpg', 'seq_000777.jpg', 'seq_000725.jpg', 'seq_000720.jpg', 'seq_000719.jpg', 'seq_000717.jpg', 'seq_000713.jpg', 'seq_000733.jpg', 'seq_000722.jpg', 'seq_000724.jpg', 'seq_000726.jpg', 'seq_000712.jpg', 'seq_000718.jpg', 'seq_000714.jpg', 'seq_000716.jpg', 'seq_000723.jpg', 'seq_000732.jpg', 'seq_000721.jpg', 'seq_000776.jpg', 'seq_000769.jpg', 'seq_000767.jpg', 'seq_000768.jpg', 'seq_000798.jpg', 'seq_000766.jpg', 'seq_000764.jpg', 'seq_000765.jpg', 'seq_000760.jpg', 'seq_000761.jpg', 'seq_000757.jpg', 'seq_000758.jpg', 'seq_000763.jpg', 'seq_000759.jpg', 'seq_000755.jpg', 'seq_000754.jpg', 'seq_000762.jpg', 'seq_000756.jpg', 'seq_000752.jpg', 'seq_000753.jpg', 'seq_000748.jpg', 'seq_000744.jpg', 'seq_000747.jpg', 'seq_000743.jpg', 'seq_000751.jpg', 'seq_000742.jpg', 'seq_000738.jpg', 'seq_000737.jpg', 'seq_000750.jpg', 'seq_000741.jpg', 'seq_000727.jpg', 'seq_000869.jpg', 'seq_000865.jpg', 'seq_000861.jpg', 'seq_000863.jpg', 'seq_000862.jpg', 'seq_000866.jpg', 'seq_000867.jpg', 'seq_000864.jpg', 'seq_000860.jpg', 'seq_000858.jpg', 'seq_000856.jpg', 'seq_000859.jpg', 'seq_000857.jpg', 'seq_000838.jpg', 'seq_000840.jpg', 'seq_000837.jpg', 'seq_000841.jpg', 'seq_000834.jpg', 'seq_000836.jpg', 'seq_000839.jpg', 'seq_000842.jpg', 'seq_000844.jpg', 'seq_000845.jpg', 'seq_000849.jpg', 'seq_000835.jpg', 'seq_000831.jpg', 'seq_000832.jpg', 'seq_000843.jpg', 'seq_000850.jpg', 'seq_000853.jpg', 'seq_000851.jpg', 'seq_000852.jpg', 'seq_000854.jpg', 'seq_000855.jpg', 'seq_000847.jpg', 'seq_000848.jpg', 'seq_000846.jpg', 'seq_000871.jpg', 'seq_000868.jpg', 'seq_000870.jpg', 'seq_000872.jpg', 'seq_000877.jpg', 'seq_000879.jpg', 'seq_000906.jpg', 'seq_000909.jpg', 'seq_000907.jpg', 'seq_000902.jpg', 'seq_000901.jpg', 'seq_000899.jpg', 'seq_000900.jpg', 'seq_000904.jpg', 'seq_000905.jpg', 'seq_000903.jpg', 'seq_000897.jpg', 'seq_000898.jpg', 'seq_000880.jpg', 'seq_000873.jpg', 'seq_000875.jpg', 'seq_000876.jpg', 'seq_000874.jpg', 'seq_000894.jpg', 'seq_000896.jpg', 'seq_000895.jpg', 'seq_000887.jpg', 'seq_000888.jpg', 'seq_000889.jpg', 'seq_000890.jpg', 'seq_000885.jpg', 'seq_000878.jpg', 'seq_000892.jpg', 'seq_000893.jpg', 'seq_000891.jpg', 'seq_000886.jpg', 'seq_000884.jpg', 'seq_000881.jpg', 'seq_000954.jpg', 'seq_000952.jpg', 'seq_000946.jpg', 'seq_000947.jpg', 'seq_000944.jpg', 'seq_000945.jpg', 'seq_000943.jpg', 'seq_000940.jpg', 'seq_000937.jpg', 'seq_000936.jpg', 'seq_000938.jpg', 'seq_000941.jpg', 'seq_000942.jpg', 'seq_000915.jpg', 'seq_000912.jpg', 'seq_000911.jpg', 'seq_000913.jpg', 'seq_000939.jpg', 'seq_000935.jpg', 'seq_000933.jpg', 'seq_000910.jpg', 'seq_000908.jpg', 'seq_000914.jpg', 'seq_000932.jpg', 'seq_000934.jpg', 'seq_000931.jpg', 'seq_000928.jpg', 'seq_000925.jpg', 'seq_000924.jpg', 'seq_000927.jpg', 'seq_000930.jpg', 'seq_000929.jpg', 'seq_000926.jpg', 'seq_000922.jpg', 'seq_000921.jpg', 'seq_000919.jpg', 'seq_000923.jpg', 'seq_000920.jpg', 'seq_000916.jpg', 'seq_000918.jpg', 'seq_000948.jpg', 'seq_000951.jpg', 'seq_000949.jpg', 'seq_000950.jpg', 'seq_000988.jpg', 'seq_000987.jpg', 'seq_000992.jpg', 'seq_000967.jpg', 'seq_000966.jpg', 'seq_000957.jpg', 'seq_000965.jpg', 'seq_000953.jpg', 'seq_000984.jpg', 'seq_000985.jpg', 'seq_000986.jpg', 'seq_000983.jpg', 'seq_000982.jpg', 'seq_000989.jpg', 'seq_000990.jpg', 'seq_000981.jpg', 'seq_000979.jpg', 'seq_000976.jpg', 'seq_000973.jpg', 'seq_000972.jpg', 'seq_000974.jpg', 'seq_000980.jpg', 'seq_000975.jpg', 'seq_000971.jpg', 'seq_000969.jpg', 'seq_000977.jpg', 'seq_000978.jpg', 'seq_000970.jpg', 'seq_000968.jpg', 'seq_000961.jpg', 'seq_000959.jpg', 'seq_000964.jpg', 'seq_000960.jpg', 'seq_000962.jpg', 'seq_000956.jpg', 'seq_000958.jpg', 'seq_001001.jpg', 'seq_001029.jpg', 'seq_001002.jpg', 'seq_001026.jpg', 'seq_001020.jpg', 'seq_001018.jpg', 'seq_001019.jpg', 'seq_001021.jpg', 'seq_001027.jpg', 'seq_001022.jpg', 'seq_001017.jpg', 'seq_001016.jpg', 'seq_001024.jpg', 'seq_001025.jpg', 'seq_001015.jpg', 'seq_001013.jpg', 'seq_001009.jpg', 'seq_001008.jpg', 'seq_001011.jpg', 'seq_001010.jpg', 'seq_001014.jpg', 'seq_001012.jpg', 'seq_001007.jpg', 'seq_001006.jpg', 'seq_001003.jpg', 'seq_001005.jpg', 'seq_001004.jpg', 'seq_001000.jpg', 'seq_000998.jpg', 'seq_000997.jpg', 'seq_000995.jpg', 'seq_000996.jpg', 'seq_000999.jpg', 'seq_000994.jpg', 'seq_000993.jpg', 'seq_000991.jpg', 'seq_001075.jpg', 'seq_001069.jpg', 'seq_001065.jpg', 'seq_001035.jpg', 'seq_001028.jpg', 'seq_001030.jpg', 'seq_001062.jpg', 'seq_001058.jpg', 'seq_001060.jpg', 'seq_001059.jpg', 'seq_001031.jpg', 'seq_001034.jpg', 'seq_001032.jpg', 'seq_001033.jpg', 'seq_001040.jpg', 'seq_001037.jpg', 'seq_001042.jpg', 'seq_001036.jpg', 'seq_001066.jpg', 'seq_001064.jpg', 'seq_001061.jpg', 'seq_001057.jpg', 'seq_001055.jpg', 'seq_001063.jpg', 'seq_001056.jpg', 'seq_001053.jpg', 'seq_001049.jpg', 'seq_001050.jpg', 'seq_001046.jpg', 'seq_001047.jpg', 'seq_001054.jpg', 'seq_001048.jpg', 'seq_001045.jpg', 'seq_001043.jpg', 'seq_001052.jpg', 'seq_001051.jpg', 'seq_001044.jpg', 'seq_001124.jpg', 'seq_001125.jpg', 'seq_001117.jpg', 'seq_001115.jpg', 'seq_001111.jpg', 'seq_001108.jpg', 'seq_001106.jpg', 'seq_001109.jpg', 'seq_001114.jpg', 'seq_001110.jpg', 'seq_001105.jpg', 'seq_001103.jpg', 'seq_001067.jpg', 'seq_001068.jpg', 'seq_001071.jpg', 'seq_001078.jpg', 'seq_001112.jpg', 'seq_001076.jpg', 'seq_001072.jpg', 'seq_001073.jpg', 'seq_001070.jpg', 'seq_001077.jpg', 'seq_001080.jpg', 'seq_001113.jpg', 'seq_001104.jpg', 'seq_001102.jpg', 'seq_001088.jpg', 'seq_001082.jpg', 'seq_001085.jpg', 'seq_001086.jpg', 'seq_001101.jpg', 'seq_001087.jpg', 'seq_001081.jpg', 'seq_001079.jpg', 'seq_001100.jpg', 'seq_001094.jpg', 'seq_001074.jpg', 'seq_001158.jpg', 'seq_001156.jpg', 'seq_001160.jpg', 'seq_001159.jpg', 'seq_001163.jpg', 'seq_001162.jpg', 'seq_001161.jpg', 'seq_001157.jpg', 'seq_001155.jpg', 'seq_001152.jpg', 'seq_001154.jpg', 'seq_001129.jpg', 'seq_001122.jpg', 'seq_001118.jpg', 'seq_001120.jpg', 'seq_001119.jpg', 'seq_001123.jpg', 'seq_001116.jpg', 'seq_001121.jpg', 'seq_001126.jpg', 'seq_001153.jpg', 'seq_001127.jpg', 'seq_001145.jpg', 'seq_001144.jpg', 'seq_001146.jpg', 'seq_001148.jpg', 'seq_001151.jpg', 'seq_001147.jpg', 'seq_001143.jpg', 'seq_001141.jpg', 'seq_001149.jpg', 'seq_001142.jpg', 'seq_001139.jpg', 'seq_001140.jpg', 'seq_001134.jpg', 'seq_001130.jpg', 'seq_001131.jpg', 'seq_001133.jpg', 'seq_001137.jpg', 'seq_001136.jpg', 'seq_001132.jpg', 'seq_001128.jpg', 'seq_001138.jpg', 'seq_001207.jpg', 'seq_001167.jpg', 'seq_001173.jpg', 'seq_001168.jpg', 'seq_001166.jpg', 'seq_001164.jpg', 'seq_001165.jpg', 'seq_001211.jpg', 'seq_001175.jpg', 'seq_001208.jpg', 'seq_001193.jpg', 'seq_001199.jpg', 'seq_001202.jpg', 'seq_001194.jpg', 'seq_001205.jpg', 'seq_001206.jpg', 'seq_001203.jpg', 'seq_001191.jpg', 'seq_001190.jpg', 'seq_001188.jpg', 'seq_001192.jpg', 'seq_001189.jpg', 'seq_001181.jpg', 'seq_001183.jpg', 'seq_001182.jpg', 'seq_001185.jpg', 'seq_001187.jpg', 'seq_001186.jpg', 'seq_001184.jpg', 'seq_001180.jpg', 'seq_001178.jpg', 'seq_001176.jpg', 'seq_001179.jpg', 'seq_001177.jpg', 'seq_001170.jpg', 'seq_001169.jpg', 'seq_001171.jpg', 'seq_001172.jpg', 'seq_001174.jpg', 'seq_001219.jpg', 'seq_001221.jpg', 'seq_001260.jpg', 'seq_001256.jpg', 'seq_001257.jpg', 'seq_001249.jpg', 'seq_001247.jpg', 'seq_001253.jpg', 'seq_001251.jpg', 'seq_001255.jpg', 'seq_001254.jpg', 'seq_001252.jpg', 'seq_001250.jpg', 'seq_001246.jpg', 'seq_001240.jpg', 'seq_001248.jpg', 'seq_001244.jpg', 'seq_001237.jpg', 'seq_001233.jpg', 'seq_001234.jpg', 'seq_001235.jpg', 'seq_001238.jpg', 'seq_001239.jpg', 'seq_001236.jpg', 'seq_001225.jpg', 'seq_001224.jpg', 'seq_001222.jpg', 'seq_001232.jpg', 'seq_001223.jpg', 'seq_001217.jpg', 'seq_001212.jpg', 'seq_001214.jpg', 'seq_001213.jpg', 'seq_001216.jpg', 'seq_001210.jpg', 'seq_001209.jpg', 'seq_001310.jpg', 'seq_001311.jpg', 'seq_001302.jpg', 'seq_001266.jpg', 'seq_001259.jpg', 'seq_001265.jpg', 'seq_001258.jpg', 'seq_001264.jpg', 'seq_001261.jpg', 'seq_001263.jpg', 'seq_001262.jpg', 'seq_001267.jpg', 'seq_001300.jpg', 'seq_001301.jpg', 'seq_001289.jpg', 'seq_001290.jpg', 'seq_001297.jpg', 'seq_001291.jpg', 'seq_001298.jpg', 'seq_001292.jpg', 'seq_001288.jpg', 'seq_001287.jpg', 'seq_001299.jpg', 'seq_001286.jpg', 'seq_001284.jpg', 'seq_001285.jpg', 'seq_001279.jpg', 'seq_001280.jpg', 'seq_001278.jpg', 'seq_001281.jpg', 'seq_001282.jpg', 'seq_001273.jpg', 'seq_001271.jpg', 'seq_001270.jpg', 'seq_001283.jpg', 'seq_001272.jpg', 'seq_001268.jpg', 'seq_001269.jpg', 'seq_001354.jpg', 'seq_001347.jpg', 'seq_001346.jpg', 'seq_001345.jpg', 'seq_001344.jpg', 'seq_001349.jpg', 'seq_001348.jpg', 'seq_001343.jpg', 'seq_001341.jpg', 'seq_001350.jpg', 'seq_001342.jpg', 'seq_001339.jpg', 'seq_001340.jpg', 'seq_001331.jpg', 'seq_001333.jpg', 'seq_001334.jpg', 'seq_001332.jpg', 'seq_001336.jpg', 'seq_001309.jpg', 'seq_001308.jpg', 'seq_001307.jpg', 'seq_001306.jpg', 'seq_001305.jpg', 'seq_001303.jpg', 'seq_001304.jpg', 'seq_001313.jpg', 'seq_001337.jpg', 'seq_001335.jpg', 'seq_001330.jpg', 'seq_001328.jpg', 'seq_001326.jpg', 'seq_001329.jpg', 'seq_001327.jpg', 'seq_001320.jpg', 'seq_001317.jpg', 'seq_001319.jpg', 'seq_001321.jpg', 'seq_001324.jpg', 'seq_001325.jpg', 'seq_001323.jpg', 'seq_001315.jpg', 'seq_001314.jpg', 'seq_001312.jpg', 'seq_001316.jpg', 'seq_001407.jpg', 'seq_001403.jpg', 'seq_001396.jpg', 'seq_001399.jpg', 'seq_001398.jpg', 'seq_001394.jpg', 'seq_001404.jpg', 'seq_001401.jpg', 'seq_001400.jpg', 'seq_001397.jpg', 'seq_001393.jpg', 'seq_001402.jpg', 'seq_001395.jpg', 'seq_001391.jpg', 'seq_001386.jpg', 'seq_001383.jpg', 'seq_001385.jpg', 'seq_001387.jpg', 'seq_001392.jpg', 'seq_001389.jpg', 'seq_001388.jpg', 'seq_001384.jpg', 'seq_001381.jpg', 'seq_001390.jpg', 'seq_001382.jpg', 'seq_001379.jpg', 'seq_001380.jpg', 'seq_001361.jpg', 'seq_001374.jpg', 'seq_001362.jpg', 'seq_001357.jpg', 'seq_001353.jpg', 'seq_001376.jpg', 'seq_001375.jpg', 'seq_001359.jpg', 'seq_001355.jpg', 'seq_001378.jpg', 'seq_001356.jpg', 'seq_001499.jpg', 'seq_001488.jpg', 'seq_001486.jpg', 'seq_001485.jpg', 'seq_001500.jpg', 'seq_001487.jpg', 'seq_001482.jpg', 'seq_001478.jpg', 'seq_001476.jpg', 'seq_001477.jpg', 'seq_001475.jpg', 'seq_001483.jpg', 'seq_001480.jpg', 'seq_001479.jpg', 'seq_001474.jpg', 'seq_001472.jpg', 'seq_001481.jpg', 'seq_001473.jpg', 'seq_001468.jpg', 'seq_001462.jpg', 'seq_001461.jpg', 'seq_001464.jpg', 'seq_001465.jpg', 'seq_001463.jpg', 'seq_001441.jpg', 'seq_001422.jpg', 'seq_001423.jpg', 'seq_001420.jpg', 'seq_001421.jpg', 'seq_001410.jpg', 'seq_001406.jpg', 'seq_001412.jpg', 'seq_001428.jpg', 'seq_001447.jpg', 'seq_001433.jpg', 'seq_001435.jpg', 'seq_001438.jpg', 'seq_001434.jpg', 'seq_001426.jpg', 'seq_001429.jpg', 'seq_001454.jpg', 'seq_001405.jpg', 'seq_001411.jpg', 'seq_001408.jpg', 'seq_001445.jpg', 'seq_001419.jpg', 'seq_001443.jpg', 'seq_001416.jpg', 'seq_001437.jpg', 'seq_001430.jpg', 'seq_001432.jpg', 'seq_001413.jpg', 'seq_001424.jpg', 'seq_001418.jpg', 'seq_001417.jpg', 'seq_001425.jpg', 'seq_001415.jpg', 'seq_001455.jpg', 'seq_001431.jpg', 'seq_001471.jpg', 'seq_001460.jpg', 'seq_001458.jpg', 'seq_001466.jpg', 'seq_001467.jpg', 'seq_001459.jpg', 'seq_001456.jpg', 'seq_001449.jpg', 'seq_001450.jpg', 'seq_001451.jpg', 'seq_001453.jpg', 'seq_001457.jpg', 'seq_001452.jpg', 'seq_001448.jpg', 'seq_001446.jpg', 'seq_001444.jpg', 'seq_001414.jpg', 'seq_001409.jpg', 'seq_001636.jpg', 'seq_001637.jpg', 'seq_001635.jpg', 'seq_001623.jpg', 'seq_001621.jpg', 'seq_001620.jpg', 'seq_001619.jpg', 'seq_001618.jpg', 'seq_001612.jpg', 'seq_001611.jpg', 'seq_001615.jpg', 'seq_001613.jpg', 'seq_001616.jpg', 'seq_001614.jpg', 'seq_001609.jpg', 'seq_001610.jpg', 'seq_001617.jpg', 'seq_001608.jpg', 'seq_001606.jpg', 'seq_001607.jpg', 'seq_001594.jpg', 'seq_001599.jpg', 'seq_001598.jpg', 'seq_001595.jpg', 'seq_001600.jpg', 'seq_001601.jpg', 'seq_001588.jpg', 'seq_001554.jpg', 'seq_001553.jpg', 'seq_001556.jpg', 'seq_001555.jpg', 'seq_001543.jpg', 'seq_001542.jpg', 'seq_001544.jpg', 'seq_001541.jpg', 'seq_001551.jpg', 'seq_001580.jpg', 'seq_001557.jpg', 'seq_001550.jpg', 'seq_001573.jpg', 'seq_001577.jpg', 'seq_001574.jpg', 'seq_001559.jpg', 'seq_001569.jpg', 'seq_001571.jpg', 'seq_001568.jpg', 'seq_001570.jpg', 'seq_001575.jpg', 'seq_001558.jpg', 'seq_001562.jpg', 'seq_001572.jpg', 'seq_001563.jpg', 'seq_001565.jpg', 'seq_001561.jpg', 'seq_001564.jpg', 'seq_001578.jpg', 'seq_001576.jpg', 'seq_001604.jpg', 'seq_001593.jpg', 'seq_001591.jpg', 'seq_001590.jpg', 'seq_001592.jpg', 'seq_001589.jpg', 'seq_001584.jpg', 'seq_001585.jpg', 'seq_001582.jpg', 'seq_001583.jpg', 'seq_001587.jpg', 'seq_001586.jpg', 'seq_001581.jpg', 'seq_001579.jpg', 'seq_001539.jpg', 'seq_001525.jpg', 'seq_001531.jpg', 'seq_001515.jpg', 'seq_001519.jpg', 'seq_001502.jpg', 'seq_001513.jpg', 'seq_001508.jpg', 'seq_001507.jpg', 'seq_001509.jpg', 'seq_001506.jpg', 'seq_001511.jpg', 'seq_001546.jpg', 'seq_001538.jpg', 'seq_001540.jpg', 'seq_001545.jpg', 'seq_001535.jpg', 'seq_001533.jpg', 'seq_001528.jpg', 'seq_001530.jpg', 'seq_001529.jpg', 'seq_001514.jpg', 'seq_001504.jpg', 'seq_001505.jpg', 'seq_001510.jpg', 'seq_001547.jpg', 'seq_001537.jpg', 'seq_001536.jpg', 'seq_001534.jpg', 'seq_001503.jpg', 'seq_001512.jpg', 'seq_001501.jpg', 'seq_001497.jpg', 'seq_001498.jpg', 'seq_001484.jpg', 'seq_001494.jpg', 'seq_001552.jpg', 'seq_001548.jpg', 'seq_001549.jpg', 'seq_001728.jpg', 'seq_001650.jpg', 'seq_001722.jpg', 'seq_001720.jpg', 'seq_001721.jpg', 'seq_001724.jpg', 'seq_001654.jpg', 'seq_001726.jpg', 'seq_001723.jpg', 'seq_001719.jpg', 'seq_001717.jpg', 'seq_001725.jpg', 'seq_001718.jpg', 'seq_001716.jpg', 'seq_001715.jpg', 'seq_001705.jpg', 'seq_001703.jpg', 'seq_001710.jpg', 'seq_001709.jpg', 'seq_001712.jpg', 'seq_001704.jpg', 'seq_001699.jpg', 'seq_001713.jpg', 'seq_001714.jpg', 'seq_001679.jpg', 'seq_001698.jpg', 'seq_001652.jpg', 'seq_001659.jpg', 'seq_001658.jpg', 'seq_001657.jpg', 'seq_001695.jpg', 'seq_001688.jpg', 'seq_001687.jpg', 'seq_001686.jpg', 'seq_001689.jpg', 'seq_001696.jpg', 'seq_001690.jpg', 'seq_001684.jpg', 'seq_001683.jpg', 'seq_001691.jpg', 'seq_001661.jpg', 'seq_001640.jpg', 'seq_001645.jpg', 'seq_001648.jpg', 'seq_001692.jpg', 'seq_001651.jpg', 'seq_001685.jpg', 'seq_001662.jpg', 'seq_001649.jpg', 'seq_001668.jpg', 'seq_001663.jpg', 'seq_001622.jpg', 'seq_001624.jpg', 'seq_001625.jpg', 'seq_001626.jpg', 'seq_001639.jpg', 'seq_001647.jpg', 'seq_001644.jpg', 'seq_001642.jpg', 'seq_001646.jpg', 'seq_001653.jpg', 'seq_001660.jpg', 'seq_001655.jpg', 'seq_001638.jpg', 'seq_001641.jpg', 'seq_001682.jpg', 'seq_001669.jpg', 'seq_001671.jpg', 'seq_001672.jpg', 'seq_001674.jpg', 'seq_001681.jpg', 'seq_001673.jpg', 'seq_001670.jpg', 'seq_001667.jpg', 'seq_001680.jpg', 'seq_001656.jpg', 'seq_001664.jpg', 'seq_001835.jpg', 'seq_001832.jpg', 'seq_001827.jpg', 'seq_001825.jpg', 'seq_001823.jpg', 'seq_001826.jpg', 'seq_001824.jpg', 'seq_001815.jpg', 'seq_001814.jpg', 'seq_001816.jpg', 'seq_001817.jpg', 'seq_001822.jpg', 'seq_001821.jpg', 'seq_001820.jpg', 'seq_001813.jpg', 'seq_001812.jpg', 'seq_001810.jpg', 'seq_001811.jpg', 'seq_001802.jpg', 'seq_001748.jpg', 'seq_001742.jpg', 'seq_001744.jpg', 'seq_001729.jpg', 'seq_001737.jpg', 'seq_001758.jpg', 'seq_001760.jpg', 'seq_001766.jpg', 'seq_001731.jpg', 'seq_001734.jpg', 'seq_001733.jpg', 'seq_001730.jpg', 'seq_001751.jpg', 'seq_001738.jpg', 'seq_001736.jpg', 'seq_001735.jpg', 'seq_001740.jpg', 'seq_001746.jpg', 'seq_001745.jpg', 'seq_001743.jpg', 'seq_001747.jpg', 'seq_001741.jpg', 'seq_001798.jpg', 'seq_001795.jpg', 'seq_001796.jpg', 'seq_001794.jpg', 'seq_001768.jpg', 'seq_001759.jpg', 'seq_001739.jpg', 'seq_001757.jpg', 'seq_001767.jpg', 'seq_001800.jpg', 'seq_001801.jpg', 'seq_001797.jpg', 'seq_001792.jpg', 'seq_001790.jpg', 'seq_001789.jpg', 'seq_001791.jpg', 'seq_001788.jpg', 'seq_001777.jpg', 'seq_001783.jpg', 'seq_001782.jpg', 'seq_001785.jpg', 'seq_001784.jpg', 'seq_001786.jpg', 'seq_001787.jpg', 'seq_001773.jpg', 'seq_001771.jpg', 'seq_001769.jpg', 'seq_001772.jpg', 'seq_001770.jpg', 'seq_001765.jpg', 'seq_001764.jpg', 'seq_001761.jpg', 'seq_001762.jpg', 'seq_001749.jpg', 'seq_001750.jpg', 'seq_001732.jpg', 'seq_001727.jpg', 'seq_001927.jpg', 'seq_001913.jpg', 'seq_001911.jpg', 'seq_001912.jpg', 'seq_001915.jpg', 'seq_001916.jpg', 'seq_001914.jpg', 'seq_001910.jpg', 'seq_001908.jpg', 'seq_001899.jpg', 'seq_001901.jpg', 'seq_001903.jpg', 'seq_001900.jpg', 'seq_001870.jpg', 'seq_001868.jpg', 'seq_001875.jpg', 'seq_001883.jpg', 'seq_001884.jpg', 'seq_001886.jpg', 'seq_001885.jpg', 'seq_001877.jpg', 'seq_001882.jpg', 'seq_001887.jpg', 'seq_001898.jpg', 'seq_001902.jpg', 'seq_001871.jpg', 'seq_001872.jpg', 'seq_001873.jpg', 'seq_001874.jpg', 'seq_001880.jpg', 'seq_001890.jpg', 'seq_001879.jpg', 'seq_001866.jpg', 'seq_001895.jpg', 'seq_001904.jpg', 'seq_001920.jpg', 'seq_001893.jpg', 'seq_001869.jpg', 'seq_001905.jpg', 'seq_001906.jpg', 'seq_001876.jpg', 'seq_001889.jpg', 'seq_001909.jpg', 'seq_001907.jpg', 'seq_001894.jpg', 'seq_001888.jpg', 'seq_001838.jpg', 'seq_001881.jpg', 'seq_001862.jpg', 'seq_001857.jpg', 'seq_001859.jpg', 'seq_001858.jpg', 'seq_001853.jpg', 'seq_001852.jpg', 'seq_001855.jpg', 'seq_001834.jpg', 'seq_001848.jpg', 'seq_001847.jpg', 'seq_001840.jpg', 'seq_001844.jpg', 'seq_001863.jpg', 'seq_001867.jpg', 'seq_001846.jpg', 'seq_001843.jpg', 'seq_001845.jpg', 'seq_001841.jpg', 'seq_001842.jpg', 'seq_001849.jpg', 'seq_001839.jpg', 'seq_001856.jpg', 'seq_001854.jpg', 'seq_001850.jpg', 'seq_001851.jpg', 'seq_001878.jpg', 'seq_001833.jpg', 'seq_001829.jpg', 'seq_001830.jpg', 'seq_001831.jpg', 'seq_001965.jpg', 'seq_001926.jpg', 'seq_001935.jpg', 'seq_001933.jpg', 'seq_001932.jpg', 'seq_001931.jpg', 'seq_001934.jpg', 'seq_001936.jpg', 'seq_001962.jpg', 'seq_001960.jpg', 'seq_001958.jpg', 'seq_001957.jpg', 'seq_001946.jpg', 'seq_001950.jpg', 'seq_001945.jpg', 'seq_001947.jpg', 'seq_001944.jpg', 'seq_001951.jpg', 'seq_001948.jpg', 'seq_001943.jpg', 'seq_001930.jpg', 'seq_001942.jpg', 'seq_001929.jpg', 'seq_001961.jpg', 'seq_001954.jpg', 'seq_001956.jpg', 'seq_001955.jpg', 'seq_001949.jpg', 'seq_001937.jpg', 'seq_001939.jpg', 'seq_001999.jpg', 'seq_002000.jpg', 'seq_001998.jpg', 'seq_001990.jpg', 'seq_001989.jpg', 'seq_001993.jpg', 'seq_001988.jpg', 'seq_001978.jpg', 'seq_001977.jpg', 'seq_001979.jpg', 'seq_001981.jpg', 'seq_001985.jpg', 'seq_001986.jpg', 'seq_001980.jpg', 'seq_001976.jpg', 'seq_001974.jpg', 'seq_001983.jpg', 'seq_001982.jpg', 'seq_001975.jpg', 'seq_001953.jpg', 'seq_001972.jpg', 'seq_001964.jpg', 'seq_001970.jpg', 'seq_001971.jpg', 'seq_001973.jpg', 'seq_001952.jpg', 'seq_001969.jpg', 'seq_001963.jpg']\n",
            "['seq_000007.jpg', 'seq_000008.jpg', 'seq_000006.jpg', 'seq_000009.jpg', 'seq_000012.jpg', 'seq_000011.jpg', 'seq_000004.jpg', 'seq_000005.jpg', 'seq_000002.jpg', 'seq_000003.jpg', 'seq_000178.jpg', 'seq_000176.jpg', 'seq_000171.jpg', 'seq_000177.jpg', 'seq_000183.jpg', 'seq_000165.jpg', 'seq_000180.jpg', 'seq_000179.jpg', 'seq_000170.jpg', 'seq_000169.jpg', 'seq_000114.jpg', 'seq_000112.jpg', 'seq_000137.jpg', 'seq_000134.jpg', 'seq_000135.jpg', 'seq_000133.jpg', 'seq_000166.jpg', 'seq_000142.jpg', 'seq_000140.jpg', 'seq_000147.jpg', 'seq_000159.jpg', 'seq_000144.jpg', 'seq_000164.jpg', 'seq_000167.jpg', 'seq_000107.jpg', 'seq_000111.jpg', 'seq_000118.jpg', 'seq_000138.jpg', 'seq_000139.jpg', 'seq_000163.jpg', 'seq_000148.jpg', 'seq_000151.jpg', 'seq_000150.jpg', 'seq_000146.jpg', 'seq_000108.jpg', 'seq_000141.jpg', 'seq_000181.jpg', 'seq_000168.jpg', 'seq_000132.jpg', 'seq_000131.jpg', 'seq_000130.jpg', 'seq_000122.jpg', 'seq_000115.jpg', 'seq_000119.jpg', 'seq_000124.jpg', 'seq_000120.jpg', 'seq_000053.jpg', 'seq_000055.jpg', 'seq_000063.jpg', 'seq_000106.jpg', 'seq_000094.jpg', 'seq_000093.jpg', 'seq_000087.jpg', 'seq_000085.jpg', 'seq_000083.jpg', 'seq_000121.jpg', 'seq_000084.jpg', 'seq_000082.jpg', 'seq_000097.jpg', 'seq_000074.jpg', 'seq_000076.jpg', 'seq_000072.jpg', 'seq_000073.jpg', 'seq_000054.jpg', 'seq_000081.jpg', 'seq_000051.jpg', 'seq_000105.jpg', 'seq_000104.jpg', 'seq_000046.jpg', 'seq_000049.jpg', 'seq_000048.jpg', 'seq_000043.jpg', 'seq_000075.jpg', 'seq_000071.jpg', 'seq_000069.jpg', 'seq_000058.jpg', 'seq_000056.jpg', 'seq_000062.jpg', 'seq_000061.jpg', 'seq_000052.jpg', 'seq_000080.jpg', 'seq_000065.jpg', 'seq_000103.jpg', 'seq_000077.jpg', 'seq_000070.jpg', 'seq_000078.jpg', 'seq_000064.jpg', 'seq_000017.jpg', 'seq_000024.jpg', 'seq_000034.jpg', 'seq_000028.jpg', 'seq_000033.jpg', 'seq_000041.jpg', 'seq_000047.jpg', 'seq_000045.jpg', 'seq_000039.jpg', 'seq_000025.jpg', 'seq_000036.jpg', 'seq_000030.jpg', 'seq_000035.jpg', 'seq_000029.jpg', 'seq_000015.jpg', 'seq_000021.jpg', 'seq_000016.jpg', 'seq_000038.jpg', 'seq_000042.jpg', 'seq_000026.jpg', 'seq_000037.jpg', 'seq_000032.jpg', 'seq_000018.jpg', 'seq_000023.jpg', 'seq_000019.jpg', 'seq_000022.jpg', 'seq_000014.jpg', 'seq_000027.jpg', 'seq_000013.jpg', 'seq_000044.jpg', 'seq_000320.jpg', 'seq_000317.jpg', 'seq_000303.jpg', 'seq_000299.jpg', 'seq_000301.jpg', 'seq_000302.jpg', 'seq_000318.jpg', 'seq_000313.jpg', 'seq_000305.jpg', 'seq_000300.jpg', 'seq_000294.jpg', 'seq_000316.jpg', 'seq_000293.jpg', 'seq_000290.jpg', 'seq_000292.jpg', 'seq_000281.jpg', 'seq_000280.jpg', 'seq_000279.jpg', 'seq_000282.jpg', 'seq_000284.jpg', 'seq_000283.jpg', 'seq_000278.jpg', 'seq_000274.jpg', 'seq_000285.jpg', 'seq_000276.jpg', 'seq_000270.jpg', 'seq_000263.jpg', 'seq_000262.jpg', 'seq_000264.jpg', 'seq_000259.jpg', 'seq_000273.jpg', 'seq_000211.jpg', 'seq_000214.jpg', 'seq_000222.jpg', 'seq_000223.jpg', 'seq_000225.jpg', 'seq_000224.jpg', 'seq_000221.jpg', 'seq_000190.jpg', 'seq_000188.jpg', 'seq_000191.jpg', 'seq_000196.jpg', 'seq_000186.jpg', 'seq_000228.jpg', 'seq_000230.jpg', 'seq_000269.jpg', 'seq_000265.jpg', 'seq_000261.jpg', 'seq_000260.jpg', 'seq_000268.jpg', 'seq_000256.jpg', 'seq_000251.jpg', 'seq_000252.jpg', 'seq_000245.jpg', 'seq_000246.jpg', 'seq_000241.jpg', 'seq_000243.jpg', 'seq_000199.jpg', 'seq_000187.jpg', 'seq_000195.jpg', 'seq_000235.jpg', 'seq_000198.jpg', 'seq_000209.jpg', 'seq_000197.jpg', 'seq_000216.jpg', 'seq_000232.jpg', 'seq_000236.jpg', 'seq_000248.jpg', 'seq_000247.jpg', 'seq_000242.jpg', 'seq_000238.jpg', 'seq_000250.jpg', 'seq_000240.jpg', 'seq_000237.jpg', 'seq_000184.jpg', 'seq_000182.jpg', 'seq_000371.jpg', 'seq_000368.jpg', 'seq_000367.jpg', 'seq_000366.jpg', 'seq_000373.jpg', 'seq_000390.jpg', 'seq_000395.jpg', 'seq_000391.jpg', 'seq_000382.jpg', 'seq_000392.jpg', 'seq_000360.jpg', 'seq_000374.jpg', 'seq_000369.jpg', 'seq_000357.jpg', 'seq_000332.jpg', 'seq_000359.jpg', 'seq_000344.jpg', 'seq_000340.jpg', 'seq_000358.jpg', 'seq_000331.jpg', 'seq_000322.jpg', 'seq_000324.jpg', 'seq_000323.jpg', 'seq_000333.jpg', 'seq_000350.jpg', 'seq_000346.jpg', 'seq_000351.jpg', 'seq_000355.jpg', 'seq_000364.jpg', 'seq_000365.jpg', 'seq_000370.jpg', 'seq_000339.jpg', 'seq_000342.jpg', 'seq_000319.jpg', 'seq_000321.jpg', 'seq_000335.jpg', 'seq_000349.jpg', 'seq_000325.jpg']\n"
          ]
        }
      ],
      "source": [
        "from google.colab import drive\n",
        "drive.mount('/content/drive/')\n",
        "\n",
        "import os\n",
        "\n",
        "GOOGLE_DRIVE_TRAINING_PATH_AFTER_MYDRIVE = 'AI_Project_Files/Filtered_Training'\n",
        "GOOGLE_DRIVE_TESTING_PATH_AFTER_MYDRIVE = 'AI_Project_Files/Filtered_Testing'\n",
        "\n",
        "GOOGLE_DRIVE_TRAINING_PATH = os.path.join('drive', 'MyDrive', GOOGLE_DRIVE_TRAINING_PATH_AFTER_MYDRIVE)\n",
        "GOOGLE_DRIVE_TESTING_PATH = os.path.join('drive', 'MyDrive', GOOGLE_DRIVE_TESTING_PATH_AFTER_MYDRIVE)\n",
        "\n",
        "print(os.listdir(GOOGLE_DRIVE_TRAINING_PATH))\n",
        "print(os.listdir(GOOGLE_DRIVE_TESTING_PATH))"
      ]
    },
    {
      "cell_type": "code",
      "execution_count": null,
      "metadata": {
        "id": "_l3G3tXId7ct"
      },
      "outputs": [],
      "source": [
        "GOOGLE_DRIVE_TRAINING_LABELS_PATH_AFTER_MYDRIVE = 'AI_Project_Files/filtered_training_csvfile.csv'\n",
        "GOOGLE_DRIVE_TESTING_LABELS_PATH_AFTER_MYDRIVE = 'AI_Project_Files/filtered_testing_csvfile.csv'\n",
        "\n",
        "GOOGLE_DRIVE_TRAINING_LABELS_PATH =  os.path.join('drive', 'MyDrive', GOOGLE_DRIVE_TRAINING_LABELS_PATH_AFTER_MYDRIVE)\n",
        "GOOGLE_DRIVE_TESTING_LABELS_PATH =  os.path.join('drive', 'MyDrive', GOOGLE_DRIVE_TESTING_LABELS_PATH_AFTER_MYDRIVE)"
      ]
    },
    {
      "cell_type": "markdown",
      "source": [
        "**Paths for Training**\n",
        "- Images Folder: `GOOGLE_DRIVE_TRAINING_PATH`\n",
        "- Labels File: `GOOGLE_DRIVE_TRAINING_LABELS_PATH`\n",
        "\n",
        "**Paths for Testing**\n",
        "- Images Folder: `GOOGLE_DRIVE_TESTING_PATH`\n",
        "- Labels File: `GOOGLE_DRIVE_TESTING_LABELS_PATH`"
      ],
      "metadata": {
        "id": "HAA0PUgjxUkm"
      }
    },
    {
      "cell_type": "code",
      "execution_count": null,
      "metadata": {
        "id": "-EXLVGwhLi7_"
      },
      "outputs": [],
      "source": [
        "# loading training dataset\n",
        "df = pd.read_csv(GOOGLE_DRIVE_TRAINING_LABELS_PATH)\n"
      ]
    },
    {
      "cell_type": "code",
      "execution_count": null,
      "metadata": {
        "id": "Puao5N5oLi8A",
        "colab": {
          "base_uri": "https://localhost:8080/"
        },
        "outputId": "41eec6db-6115-4a0b-9cf8-988216388bc0"
      },
      "outputs": [
        {
          "output_type": "stream",
          "name": "stdout",
          "text": [
            "       id Classification      image_name  class\n",
            "0     404    Not Crowded  seq_000404.jpg      0\n",
            "1     405    Not Crowded  seq_000405.jpg      0\n",
            "2     410        Crowded  seq_000410.jpg      1\n",
            "3     411        Crowded  seq_000411.jpg      1\n",
            "4     412        Crowded  seq_000412.jpg      1\n",
            "..    ...            ...             ...    ...\n",
            "945  1989    Not Crowded  seq_001989.jpg      0\n",
            "946  1990    Not Crowded  seq_001990.jpg      0\n",
            "947  1998    Not Crowded  seq_001998.jpg      0\n",
            "948  1999    Not Crowded  seq_001999.jpg      0\n",
            "949  2000    Not Crowded  seq_002000.jpg      0\n",
            "\n",
            "[950 rows x 4 columns]\n"
          ]
        }
      ],
      "source": [
        "# add the image name column for every row\n",
        "df['image_name'] = df['id'].map('seq_{:06d}.jpg'.format) # uncomment for training\n",
        "#df['image_name'] = (df['id']+1).map('seq_{:06d}.jpg'.format) # uncomment for testing\n",
        "\n",
        "def getClass(classification):\n",
        "  if (classification == 'Crowded'):\n",
        "    return 1\n",
        "  return 0\n",
        "\n",
        "# add a binary 0/1 class to each row\n",
        "df['class'] = df['Classification'].map(getClass) # uncomment for training\n",
        "\n",
        "print(df)"
      ]
    },
    {
      "cell_type": "code",
      "execution_count": null,
      "metadata": {
        "id": "vXubiOvhLi8A",
        "colab": {
          "base_uri": "https://localhost:8080/"
        },
        "outputId": "9110686f-5cda-42d9-f785-c586a9872f06"
      },
      "outputs": [
        {
          "output_type": "execute_result",
          "data": {
            "text/plain": [
              "count         950\n",
              "unique          2\n",
              "top       Crowded\n",
              "freq          538\n",
              "Name: Classification, dtype: object"
            ]
          },
          "metadata": {},
          "execution_count": 6
        }
      ],
      "source": [
        "df['Classification'].describe()\n"
      ]
    },
    {
      "cell_type": "code",
      "execution_count": null,
      "metadata": {
        "id": "3zLYZ1y0Li8A"
      },
      "outputs": [],
      "source": [
        "size = 224\n",
        "batch_size = 64"
      ]
    },
    {
      "cell_type": "code",
      "source": [
        "train_datagen = ImageDataGenerator(\n",
        "    rescale=1.0/255,\n",
        "    rotation_range=20,\n",
        "    width_shift_range=0.2,\n",
        "    height_shift_range=0.2,\n",
        "    shear_range=0.2,\n",
        "    zoom_range=0.2,\n",
        "    horizontal_flip=True,\n",
        "    validation_split=0.2\n",
        ")\n",
        "\n",
        "# Data generators\n",
        "train_generator = train_datagen.flow_from_dataframe(\n",
        "    dataframe=df,\n",
        "    directory=GOOGLE_DRIVE_TRAINING_PATH,\n",
        "    x_col='image_name',\n",
        "    y_col='Classification',\n",
        "    target_size=(size, size),\n",
        "    batch_size=batch_size,\n",
        "    class_mode='binary',\n",
        "    subset='training'\n",
        ")\n",
        "\n",
        "valid_generator = train_datagen.flow_from_dataframe(\n",
        "    dataframe=df,\n",
        "    directory=GOOGLE_DRIVE_TRAINING_PATH,\n",
        "    x_col='image_name',\n",
        "    y_col='Classification',\n",
        "    target_size=(size, size),\n",
        "    batch_size=batch_size,\n",
        "    class_mode='binary',\n",
        "    subset='validation'\n",
        ")\n"
      ],
      "metadata": {
        "colab": {
          "base_uri": "https://localhost:8080/"
        },
        "id": "OeGFfcG2lX0A",
        "outputId": "34ff5c27-f45d-4885-887b-bdbabf88ae10"
      },
      "execution_count": null,
      "outputs": [
        {
          "output_type": "stream",
          "name": "stdout",
          "text": [
            "Found 760 validated image filenames belonging to 2 classes.\n",
            "Found 190 validated image filenames belonging to 2 classes.\n"
          ]
        }
      ]
    },
    {
      "cell_type": "code",
      "execution_count": null,
      "metadata": {
        "id": "qekPALfxLi8B"
      },
      "outputs": [],
      "source": [
        "def load_vgg16(input_shape):\n",
        "    # this loads VGG16 with weights learned by training on imagenet dataset.\n",
        "    base_model = vgg16.VGG16(weights='imagenet', # Load the pretrained weights, trained on the ImageNet dataset.\n",
        "                             include_top=False, # We don't include the fully-connected layer at the top of the network - we need to modify the top.\n",
        "                             input_shape=input_shape)\n",
        "    return base_model\n"
      ]
    },
    {
      "cell_type": "code",
      "execution_count": null,
      "metadata": {
        "id": "jtMKVq5rLi8B"
      },
      "outputs": [],
      "source": [
        "def create_crowd_counting_model(input_shape):\n",
        "    base_model = load_vgg16(input_shape)\n",
        "    for layer in base_model.layers:\n",
        "        layer.trainable = False\n",
        "\n",
        "    x = base_model.output\n",
        "    x = Conv2D(512, (3, 3), activation='relu', padding='same')(x)\n",
        "    x = BatchNormalization()(x)\n",
        "    x = Conv2D(256, (3, 3), activation='relu', padding='same')(x)\n",
        "    x = BatchNormalization()(x)\n",
        "    x = Conv2D(128, (3, 3), activation='relu', padding='same')(x)\n",
        "    x = BatchNormalization()(x)\n",
        "    x = GlobalAveragePooling2D()(x)\n",
        "    x = Dense(512, activation='relu')(x)\n",
        "    x = Dropout(0.5)(x)\n",
        "    x = Dense(128, activation='relu')(x)\n",
        "    x = Dropout(0.5)(x)\n",
        "    x = Dense(1, activation='sigmoid')(x)\n",
        "\n",
        "    model = Model(inputs=base_model.input, outputs=x)\n",
        "    return model\n"
      ]
    },
    {
      "cell_type": "code",
      "execution_count": null,
      "metadata": {
        "id": "Xt3DYgXcLi8B"
      },
      "outputs": [],
      "source": [
        "input_shape = (size, size, 3)\n",
        "model = create_crowd_counting_model(input_shape)\n",
        "model.compile(optimizer=Adam(learning_rate=1e-4), loss='BinaryCrossentropy', metrics=['accuracy'])\n"
      ]
    },
    {
      "cell_type": "code",
      "execution_count": null,
      "metadata": {
        "colab": {
          "base_uri": "https://localhost:8080/"
        },
        "id": "8Tib8Qq-Li8B",
        "outputId": "4a25743b-4b5f-4a75-ce69-3459b0123258"
      },
      "outputs": [
        {
          "output_type": "stream",
          "name": "stdout",
          "text": [
            "Epoch 1/30\n",
            "12/12 - 54s - loss: 0.6345 - accuracy: 0.6592 - val_loss: 0.7748 - val_accuracy: 0.0947 - 54s/epoch - 4s/step\n",
            "Epoch 2/30\n",
            "12/12 - 17s - loss: 0.4810 - accuracy: 0.8395 - val_loss: 0.8211 - val_accuracy: 0.0947 - 17s/epoch - 1s/step\n",
            "Epoch 3/30\n",
            "12/12 - 19s - loss: 0.3741 - accuracy: 0.8592 - val_loss: 0.8684 - val_accuracy: 0.2158 - 19s/epoch - 2s/step\n",
            "Epoch 4/30\n",
            "12/12 - 17s - loss: 0.2928 - accuracy: 0.8842 - val_loss: 1.0208 - val_accuracy: 0.2000 - 17s/epoch - 1s/step\n",
            "Epoch 5/30\n",
            "12/12 - 17s - loss: 0.2529 - accuracy: 0.9145 - val_loss: 1.2055 - val_accuracy: 0.1579 - 17s/epoch - 1s/step\n",
            "Epoch 6/30\n",
            "12/12 - 18s - loss: 0.2478 - accuracy: 0.8961 - val_loss: 1.2727 - val_accuracy: 0.1421 - 18s/epoch - 1s/step\n",
            "Epoch 7/30\n",
            "12/12 - 17s - loss: 0.2294 - accuracy: 0.9026 - val_loss: 1.1729 - val_accuracy: 0.1947 - 17s/epoch - 1s/step\n",
            "Epoch 8/30\n",
            "12/12 - 19s - loss: 0.1935 - accuracy: 0.9224 - val_loss: 0.8879 - val_accuracy: 0.4000 - 19s/epoch - 2s/step\n",
            "Epoch 9/30\n",
            "12/12 - 17s - loss: 0.2247 - accuracy: 0.9105 - val_loss: 0.5201 - val_accuracy: 0.7632 - 17s/epoch - 1s/step\n",
            "Epoch 10/30\n",
            "12/12 - 17s - loss: 0.1937 - accuracy: 0.9316 - val_loss: 0.6029 - val_accuracy: 0.6737 - 17s/epoch - 1s/step\n",
            "Epoch 11/30\n",
            "12/12 - 19s - loss: 0.1980 - accuracy: 0.9092 - val_loss: 0.3298 - val_accuracy: 0.8842 - 19s/epoch - 2s/step\n",
            "Epoch 12/30\n",
            "12/12 - 17s - loss: 0.1941 - accuracy: 0.9184 - val_loss: 0.3759 - val_accuracy: 0.8789 - 17s/epoch - 1s/step\n",
            "Epoch 13/30\n",
            "12/12 - 17s - loss: 0.2061 - accuracy: 0.9250 - val_loss: 0.2586 - val_accuracy: 0.9105 - 17s/epoch - 1s/step\n",
            "Epoch 14/30\n",
            "12/12 - 17s - loss: 0.1681 - accuracy: 0.9276 - val_loss: 0.3516 - val_accuracy: 0.8737 - 17s/epoch - 1s/step\n",
            "Epoch 15/30\n",
            "12/12 - 17s - loss: 0.1638 - accuracy: 0.9355 - val_loss: 0.9013 - val_accuracy: 0.5105 - 17s/epoch - 1s/step\n",
            "Epoch 16/30\n",
            "12/12 - 17s - loss: 0.1492 - accuracy: 0.9408 - val_loss: 1.0269 - val_accuracy: 0.4947 - 17s/epoch - 1s/step\n",
            "Epoch 17/30\n",
            "12/12 - 17s - loss: 0.1515 - accuracy: 0.9447 - val_loss: 0.7142 - val_accuracy: 0.6368 - 17s/epoch - 1s/step\n",
            "Epoch 18/30\n",
            "12/12 - 18s - loss: 0.1246 - accuracy: 0.9487 - val_loss: 0.8732 - val_accuracy: 0.5368 - 18s/epoch - 2s/step\n",
            "Epoch 19/30\n",
            "12/12 - 17s - loss: 0.1403 - accuracy: 0.9355 - val_loss: 0.9024 - val_accuracy: 0.5526 - 17s/epoch - 1s/step\n",
            "Epoch 20/30\n",
            "12/12 - 17s - loss: 0.1808 - accuracy: 0.9329 - val_loss: 0.7537 - val_accuracy: 0.6421 - 17s/epoch - 1s/step\n",
            "Epoch 21/30\n",
            "12/12 - 18s - loss: 0.1380 - accuracy: 0.9526 - val_loss: 0.9979 - val_accuracy: 0.4947 - 18s/epoch - 2s/step\n",
            "Epoch 22/30\n",
            "12/12 - 16s - loss: 0.1508 - accuracy: 0.9395 - val_loss: 1.2498 - val_accuracy: 0.4421 - 16s/epoch - 1s/step\n",
            "Epoch 23/30\n",
            "12/12 - 17s - loss: 0.1601 - accuracy: 0.9421 - val_loss: 1.1501 - val_accuracy: 0.4737 - 17s/epoch - 1s/step\n",
            "Epoch 24/30\n",
            "12/12 - 17s - loss: 0.1345 - accuracy: 0.9500 - val_loss: 1.0072 - val_accuracy: 0.5368 - 17s/epoch - 1s/step\n",
            "Epoch 25/30\n",
            "12/12 - 17s - loss: 0.1513 - accuracy: 0.9368 - val_loss: 0.6971 - val_accuracy: 0.6947 - 17s/epoch - 1s/step\n",
            "Epoch 26/30\n",
            "12/12 - 17s - loss: 0.1219 - accuracy: 0.9566 - val_loss: 0.4454 - val_accuracy: 0.7789 - 17s/epoch - 1s/step\n",
            "Epoch 27/30\n",
            "12/12 - 16s - loss: 0.1346 - accuracy: 0.9526 - val_loss: 0.4142 - val_accuracy: 0.8105 - 16s/epoch - 1s/step\n",
            "Epoch 28/30\n",
            "12/12 - 17s - loss: 0.1212 - accuracy: 0.9592 - val_loss: 0.6010 - val_accuracy: 0.7316 - 17s/epoch - 1s/step\n",
            "Epoch 29/30\n",
            "12/12 - 17s - loss: 0.1073 - accuracy: 0.9579 - val_loss: 0.4435 - val_accuracy: 0.8368 - 17s/epoch - 1s/step\n",
            "Epoch 30/30\n",
            "12/12 - 17s - loss: 0.1073 - accuracy: 0.9579 - val_loss: 0.5400 - val_accuracy: 0.7842 - 17s/epoch - 1s/step\n"
          ]
        }
      ],
      "source": [
        "history = model.fit(train_generator,\n",
        "    epochs = 30,  # 50 epochs seems to have reached the minimal loss for this setup\n",
        "    validation_data = valid_generator,\n",
        "    verbose=2)"
      ]
    },
    {
      "cell_type": "code",
      "execution_count": null,
      "metadata": {
        "id": "a_Dw-HJ8Li8C",
        "colab": {
          "base_uri": "https://localhost:8080/",
          "height": 449
        },
        "outputId": "d7bb1bd5-1cf4-4278-ea8c-81bcdd51525a"
      },
      "outputs": [
        {
          "output_type": "display_data",
          "data": {
            "text/plain": [
              "<Figure size 640x480 with 1 Axes>"
            ],
            "image/png": "[encoded data removed]"
          },
          "metadata": {}
        }
      ],
      "source": [
        "plt.plot(history.history['loss'], label='Training Loss')\n",
        "plt.plot(history.history['val_loss'], label='Validation Loss')\n",
        "plt.xlabel('Epochs')\n",
        "plt.ylabel('Loss')\n",
        "plt.legend()\n",
        "plt.show()\n"
      ]
    },
    {
      "cell_type": "code",
      "execution_count": null,
      "metadata": {
        "id": "JBL1JN58Li8C"
      },
      "outputs": [],
      "source": [
        "model.save(\"VGG16_Model.keras\")"
      ]
    },
    {
      "cell_type": "code",
      "source": [
        "test_datagen = ImageDataGenerator(rescale=1.0/255)\n",
        "# Evaluate the model on the test set\n",
        "test_df = pd.read_csv(GOOGLE_DRIVE_TESTING_LABELS_PATH)\n",
        "test_df['image_name'] = test_df['id'].map('seq_{:06d}.jpg'.format) # assuming test labels are similar\n",
        "\n",
        "test_generator = test_datagen.flow_from_dataframe(\n",
        "    dataframe=test_df,\n",
        "    directory=GOOGLE_DRIVE_TESTING_PATH,\n",
        "    x_col='image_name',\n",
        "    y_col='Classification',\n",
        "    target_size=(size, size),\n",
        "    batch_size= batch_size,\n",
        "    class_mode='binary',\n",
        "    shuffle=False\n",
        ")\n",
        "\n"
      ],
      "metadata": {
        "colab": {
          "base_uri": "https://localhost:8080/"
        },
        "id": "2xJUcqStmFiG",
        "outputId": "873f2d23-1287-4e83-b93c-0095a2f6121b"
      },
      "execution_count": null,
      "outputs": [
        {
          "output_type": "stream",
          "name": "stdout",
          "text": [
            "Found 174 validated image filenames belonging to 2 classes.\n"
          ]
        },
        {
          "output_type": "stream",
          "name": "stderr",
          "text": [
            "/usr/local/lib/python3.10/dist-packages/keras/src/preprocessing/image.py:1137: UserWarning: Found 67 invalid image filename(s) in x_col=\"image_name\". These filename(s) will be ignored.\n",
            "  warnings.warn(\n"
          ]
        }
      ]
    },
    {
      "cell_type": "code",
      "source": [
        "test_loss, test_acc = model.evaluate(test_generator)\n",
        "print(f'Test accuracy: {test_acc}')\n",
        "\n",
        "# Generate predictions and classification report\n",
        "test_generator.reset()\n",
        "Y_pred = model.predict(test_generator)\n",
        "y_pred = (Y_pred > 0.5).astype(int).reshape(-1)\n",
        "\n",
        "from sklearn.metrics import classification_report, confusion_matrix\n",
        "print('Confusion Matrix')\n",
        "print(confusion_matrix(test_generator.classes, y_pred))\n",
        "\n",
        "print('Classification Report')\n",
        "target_names = ['Not Crowded', 'Crowded']\n",
        "print(classification_report(test_generator.classes, y_pred, target_names=target_names))"
      ],
      "metadata": {
        "colab": {
          "base_uri": "https://localhost:8080/"
        },
        "id": "h5Sv6T4omQaI",
        "outputId": "c724be14-c631-46df-fff1-530a155e4fb5"
      },
      "execution_count": null,
      "outputs": [
        {
          "output_type": "stream",
          "name": "stdout",
          "text": [
            "3/3 [==============================] - 9s 4s/step - loss: 0.1283 - accuracy: 0.9368\n",
            "Test accuracy: 0.9367815852165222\n",
            "3/3 [==============================] - 1s 364ms/step\n",
            "Confusion Matrix\n",
            "[[100  10]\n",
            " [  1  63]]\n",
            "Classification Report\n",
            "              precision    recall  f1-score   support\n",
            "\n",
            " Not Crowded       0.99      0.91      0.95       110\n",
            "     Crowded       0.86      0.98      0.92        64\n",
            "\n",
            "    accuracy                           0.94       174\n",
            "   macro avg       0.93      0.95      0.93       174\n",
            "weighted avg       0.94      0.94      0.94       174\n",
            "\n"
          ]
        }
      ]
    },
    {
      "cell_type": "code",
      "execution_count": null,
      "metadata": {
        "id": "DRVxifcZLi8C"
      },
      "outputs": [],
      "source": [
        "def load_and_preprocess_image(img_path, target_size):\n",
        "    img = load_img(img_path, target_size=target_size)\n",
        "    img_array = img_to_array(img)\n",
        "    img_array = np.expand_dims(img_array, axis=0)  # Model expects images in batches\n",
        "    img_array = vgg16.preprocess_input(img_array)  # Preprocess the image as required by the model\n",
        "    img_array /= 255\n",
        "    return img_array"
      ]
    },
    {
      "cell_type": "code",
      "execution_count": null,
      "metadata": {
        "id": "kQMEek57Li8C"
      },
      "outputs": [],
      "source": [
        "def pred(im):\n",
        "    img = load_and_preprocess_image(im, (size, size))\n",
        "    predict = model.predict(img)\n",
        "    return np.mean(predict)\n"
      ]
    },
    {
      "cell_type": "code",
      "execution_count": null,
      "metadata": {
        "id": "Udm1li-iLi8C",
        "colab": {
          "base_uri": "https://localhost:8080/"
        },
        "outputId": "add923ae-b2f0-4fa0-fd6c-db3ba370cb06"
      },
      "outputs": [
        {
          "output_type": "stream",
          "name": "stdout",
          "text": [
            "1/1 [==============================] - 1s 1s/step\n"
          ]
        },
        {
          "output_type": "execute_result",
          "data": {
            "text/plain": [
              "0.0020656686"
            ]
          },
          "metadata": {},
          "execution_count": 19
        }
      ],
      "source": [
        "# not really accurate but good enough (:\n",
        "pred(GOOGLE_DRIVE_TESTING_PATH + \"/seq_000003.jpg\")\n"
      ]
    }
  ],
  "metadata": {
    "colab": {
      "provenance": [],
      "gpuType": "T4"
    },
    "kernelspec": {
      "display_name": "Python 3",
      "name": "python3"
    },
    "language_info": {
      "codemirror_mode": {
        "name": "ipython",
        "version": 3
      },
      "file_extension": ".py",
      "mimetype": "text/x-python",
      "name": "python",
      "nbconvert_exporter": "python",
      "pygments_lexer": "ipython3",
      "version": "3.10.0"
    },
    "accelerator": "GPU"
  },
  "nbformat": 4,
  "nbformat_minor": 0
}